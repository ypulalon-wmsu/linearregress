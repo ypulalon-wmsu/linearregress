{
 "cells": [
  {
   "cell_type": "code",
   "execution_count": 1,
   "metadata": {},
   "outputs": [],
   "source": [
    "##Linear Regression. Project #1: Yusop Pulalon"
   ]
  },
  {
   "cell_type": "code",
   "execution_count": 2,
   "metadata": {},
   "outputs": [],
   "source": [
    "#Aim of this application:\n",
    "#Make Prediction. If we have some features like sizes of the house, how much is the\n",
    "#   price of the/that house\n",
    "#We use the simplest model, linear regression to predict the price"
   ]
  },
  {
   "cell_type": "code",
   "execution_count": 3,
   "metadata": {},
   "outputs": [],
   "source": [
    "from scipy import stats\n",
    "import numpy as np                    #we will use numpy to use array[] based data\n",
    "from matplotlib import pyplot as plt  #we will use matplotlib to plot the output data"
   ]
  },
  {
   "cell_type": "code",
   "execution_count": 4,
   "metadata": {},
   "outputs": [],
   "source": [
    "##This is our Training Data"
   ]
  },
  {
   "cell_type": "code",
   "execution_count": 5,
   "metadata": {},
   "outputs": [],
   "source": [
    "x = np.array([112,345,190,372,550,302,420,578])         #x represents the size of the house of the training data\n",
    "y = np.array([1120,1523,2102,2400,3200,3409,3689,4460]) #y represents the price of the houses of the training data"
   ]
  },
  {
   "cell_type": "code",
   "execution_count": 6,
   "metadata": {},
   "outputs": [],
   "source": [
    "##we will fit the linear regression model or line to these data set\n",
    "##we will get the slope, the intercept and some statistical data like the\n",
    "##r_value, p_value though we will not use it anyway, also the standard error\n",
    "##all of these will be equal to stats.linregress specifying the x and y training data"
   ]
  },
  {
   "cell_type": "code",
   "execution_count": 7,
   "metadata": {},
   "outputs": [],
   "source": [
    "slope, intercept, r_value, p_value, std_err = stats.linregress(x,y)"
   ]
  },
  {
   "cell_type": "code",
   "execution_count": 8,
   "metadata": {},
   "outputs": [],
   "source": [
    "#Then after this training we will make predictions"
   ]
  },
  {
   "cell_type": "code",
   "execution_count": 9,
   "metadata": {},
   "outputs": [
    {
     "data": {
      "image/png": "[encoded data removed]",
      "text/plain": [
       "<matplotlib.figure.Figure at 0x84918d0>"
      ]
     },
     "metadata": {},
     "output_type": "display_data"
    }
   ],
   "source": [
    "plt.plot(x,y,'ro', color='red')  #plot will be round objects and color blacks\n",
    "\n",
    "plt.ylabel('Price $')                #our label for y\n",
    "plt.xlabel('Size of house (sq.meters)')        #another label for our x\n",
    "\n",
    "plt.axis([0,600,0,5000])           #lets assume our x-axis from 0-600, and our y-axis from 0-5000\n",
    "\n",
    "plt.plot(x,x*slope+intercept,'b')  #here we already calculated the slope and intercept of our training data\n",
    "                                   #'b' means we will use blue line, the stats.linregress calculated all our slope and intercept\n",
    "plt.plot()                         #finally plotting them\n",
    "plt.show()"
   ]
  },
  {
   "cell_type": "code",
   "execution_count": 10,
   "metadata": {},
   "outputs": [],
   "source": [
    "##with the help of this line we now can make accurate predictions for our new data sets"
   ]
  },
  {
   "cell_type": "code",
   "execution_count": 11,
   "metadata": {},
   "outputs": [],
   "source": [
    "newX = 110                    #say we have this new size of house and we want to predict its price\n",
    "newY = newX*slope+intercept   #then, using the slope and intercept that we have plotted we can now\n",
    "                              #predict its price"
   ]
  },
  {
   "cell_type": "code",
   "execution_count": 12,
   "metadata": {},
   "outputs": [
    {
     "name": "stdout",
     "output_type": "stream",
     "text": [
      "1360.1998225766092\n"
     ]
    }
   ],
   "source": [
    "print(newY)    #This is our predicted price for a 110 sq.meters house size "
   ]
  },
  {
   "cell_type": "code",
   "execution_count": null,
   "metadata": {},
   "outputs": [],
   "source": []
  }
 ],
 "metadata": {
  "kernelspec": {
   "display_name": "Python 3",
   "language": "python",
   "name": "python3"
  },
  "language_info": {
   "codemirror_mode": {
    "name": "ipython",
    "version": 3
   },
   "file_extension": ".py",
   "mimetype": "text/x-python",
   "name": "python",
   "nbconvert_exporter": "python",
   "pygments_lexer": "ipython3",
   "version": "3.6.4"
  }
 },
 "nbformat": 4,
 "nbformat_minor": 2
}
